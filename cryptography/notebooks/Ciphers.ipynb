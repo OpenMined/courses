{
 "cells": [
  {
   "cell_type": "markdown",
   "metadata": {},
   "source": [
    "# Table of contents: Ciphers\n",
    "\n",
    "* [Shift Cipher](#shift-cipher)\n",
    "    * [Attack on shift Cipher](#attack-shift-cipher)\n",
    "* [Monoalphabetic Cipher](#monoalphabetic-cipher)\n",
    "* [Vigenère Cipher](#vigenere-cipher)\n",
    "    \n",
    "    \n",
    "Author: [Sebastià Agramunt Puig](https://github.com/sebastiaagramunt) for [OpenMined](https://www.openmined.org/) Privacy ML Series course."
   ]
  },
  {
   "cell_type": "markdown",
   "metadata": {},
   "source": [
    "\n",
    "In secure communication one tries to convert information into a coded form i.e. to **encode** information. Information can be encoded using what is known in cryptography as a **cipher** which is no less than al algorithm that allows us to encode and decode information. In the field of cryptography we name **encryption** to the process of encode information and **decryption** to the process of decoding it.\n",
    "\n",
    "Next we explore the most basic cipher working on text, this is, the Caesar's cipher or shift cipher\n",
    "\n",
    "\n",
    "## Shift Cipher <a class=\"anchor\" id=\"shift-cipher\"></a>\n",
    "\n",
    "One of the oldest known ciphers is the Shift cipher. In this cipher we encrypt the alphabet by shifting a certain number of places the letters of our message. Julius Caesar used the Shift cipher to communicate secretly with his military, but he used a fixed shift of three, this is why the Shift cipher with the specific shift of three is known as the Caesar's cipher but is nothing less that a particular case for the shift cipher.\n",
    "\n",
    "In the shift cipher the two interlocutors (the **sender** and the **receiver**) have to agree on a common **secret key**, this is, the shift or a number in between 0 and 26 (corresponding to the 26 letters in the english alphabet). They have to meet in person to agree on which secret key they are going to use so that they are sure nobody else knows the key.\n",
    "\n",
    "The shift cipher is a **substitution** cipher meaning that each character of our message is substituted by another character, let's see the substitution for the secret_key \"b\", i.e. a shift of 1\n",
    "\n",
    "\n",
    "| secret_key | letter shift | plaintext | ciphertext |\n",
    "|------------|--------------|-----------|------------|\n",
    "| b          | 1            | a         | b          |\n",
    "| b          | 1            | b         | c          |\n",
    "| b          | 1            | c         | d          |\n",
    "| ...        | ...          | ...       | ...        |\n",
    "| b          | 1            | y         | z          |\n",
    "| b          | 1            | z         | a          |\n",
    "\n",
    "The Caesar's cipher is the shift cipher with 3 shifts, i.e. secret key d.\n",
    "\n",
    "| secret_key | letter shift | plaintext | ciphertext |\n",
    "|------------|--------------|-----------|------------|\n",
    "| d          | 3            | a         | d          |\n",
    "| d          | 3            | b         | e          |\n",
    "| d          | 3            | c         | f          |\n",
    "| ...        | ...          | ...       | ...        |\n",
    "| d          | 3            | y         | b          |\n",
    "| d          | 3            | z         | c          |"
   ]
  },
  {
   "cell_type": "code",
   "execution_count": 1,
   "metadata": {},
   "outputs": [
    {
     "name": "stdout",
     "output_type": "stream",
     "text": [
      "These are ascii lowercase we will use for our messages:\n",
      "\tabcdefghijklmnopqrstuvwxyz\n"
     ]
    }
   ],
   "source": [
    "import string\n",
    "\n",
    "print(f\"These are ascii lowercase we will use for our messages:\\n\\t{string.ascii_lowercase}\")"
   ]
  },
  {
   "cell_type": "code",
   "execution_count": 2,
   "metadata": {},
   "outputs": [
    {
     "name": "stdout",
     "output_type": "stream",
     "text": [
      "alphabet:\n",
      "\tabcdefghijklmnopqrstuvwxyz\n",
      "ceasar encrypted alphabet\n",
      "\tdefghijklmnopqrstuvwxyzabc\n"
     ]
    }
   ],
   "source": [
    "# inputs a shift letter and outputs the equivalent conversion\n",
    "# conversion of abcdefghijklmnopqrstuvwxyz to the equivalent in ciphertext\n",
    "# ex: if key is \"b\": bcdefghijklmnopqrstuvwxyza\n",
    "#     if key is \"c\": cdefghijklmnopqrstuvwxyzab\n",
    "def shift_by(secret_key: str) -> str:\n",
    "    assert len(secret_key)==1, \"secret key must be lenght 1\"\n",
    "    assert secret_key in string.ascii_lowercase, f\"{secret_key} is not ascii lowercase\"\n",
    "    \n",
    "    int_key = ord(secret_key) - 97\n",
    "    \n",
    "    return string.ascii_lowercase[int_key:] + string.ascii_lowercase[:int_key] \n",
    "\n",
    "print(f\"alphabet:\\n\\t{string.ascii_lowercase}\")\n",
    "print(f\"ceasar encrypted alphabet\\n\\t{shift_by('d')}\")"
   ]
  },
  {
   "cell_type": "markdown",
   "metadata": {},
   "source": [
    "As you can see, we substitute *a* by *d* (shifted 3 positions), *b* by *e* and so on wrapping around the alphabet.\n",
    "\n",
    "In cryptography, a message that is not encrypted is called a **plaintext** message whilst when it is encrypted is considered a **ciphertext** message. Let's code the encryption and decryption algorithm:"
   ]
  },
  {
   "cell_type": "code",
   "execution_count": 3,
   "metadata": {},
   "outputs": [],
   "source": [
    "def shift_encrypt(plaintext: str, secret_key: str) -> str:\n",
    "    shifted = shift_by(secret_key)\n",
    "    \n",
    "    convert_dict = {p:c for p, c in zip(string.ascii_lowercase, shifted)}\n",
    "    convert_dict[\" \"] = \" \"\n",
    "    \n",
    "    return ''.join([convert_dict[c] for c in plaintext])\n",
    "    \n",
    "    \n",
    "def shift_decrypt(ciphertext: str, secret_key: str) -> str:\n",
    "    shifted = shift_by(secret_key)\n",
    "    \n",
    "    convert_dict = {c:p for p, c in zip(string.ascii_lowercase, shifted)}\n",
    "    convert_dict[\" \"] = \" \"\n",
    "    \n",
    "    return ''.join([convert_dict[c] for c in ciphertext])"
   ]
  },
  {
   "cell_type": "code",
   "execution_count": 4,
   "metadata": {},
   "outputs": [
    {
     "data": {
      "text/plain": [
       "'dqp fkc k dqpc vctfg'"
      ]
     },
     "execution_count": 4,
     "metadata": {},
     "output_type": "execute_result"
    }
   ],
   "source": [
    "shift_encrypt(\"bon dia i bona tarde\", \"c\")"
   ]
  },
  {
   "cell_type": "code",
   "execution_count": 5,
   "metadata": {},
   "outputs": [],
   "source": [
    "def shift_cipher(text: str, secret_key: str, encrypt: bool=True) -> str:\n",
    "    shifted = shift_by(secret_key)\n",
    "    \n",
    "    if encrypt:\n",
    "        convert_dict = {p:c for p, c in zip(string.ascii_lowercase, shifted)}\n",
    "    else:\n",
    "        convert_dict = {c:p for p, c in zip(string.ascii_lowercase, shifted)}\n",
    "    convert_dict[\" \"] = \" \"\n",
    "    \n",
    "    return ''.join(convert_dict[c] for c in text)"
   ]
  },
  {
   "cell_type": "code",
   "execution_count": 6,
   "metadata": {},
   "outputs": [
    {
     "data": {
      "text/plain": [
       "'dqp fkc k dqpc vctfg'"
      ]
     },
     "execution_count": 6,
     "metadata": {},
     "output_type": "execute_result"
    }
   ],
   "source": [
    "shift_cipher(\"bon dia i bona tarde\", \"c\", encrypt=True)"
   ]
  },
  {
   "cell_type": "markdown",
   "metadata": {},
   "source": [
    "We can now send a message with the Caesar's cipher (secret_key = 3)"
   ]
  },
  {
   "cell_type": "code",
   "execution_count": 7,
   "metadata": {},
   "outputs": [
    {
     "name": "stdout",
     "output_type": "stream",
     "text": [
      "Plaintext is: \n",
      "\tthis is a secret message\n",
      "Ciphertext is: \n",
      "\tvjku ku c ugetgv oguucig\n"
     ]
    }
   ],
   "source": [
    "# specific Caesar's cipher secret_key\n",
    "secret_key = \"c\"\n",
    "message = \"this is a secret message\"\n",
    "encrypted_message = shift_cipher(message, secret_key)\n",
    "\n",
    "print(f\"Plaintext is: \\n\\t{message}\")\n",
    "print(f\"Ciphertext is: \\n\\t{encrypted_message}\")"
   ]
  },
  {
   "cell_type": "markdown",
   "metadata": {},
   "source": [
    "The message is now unreadeable for anybody that doesn't know the key!. Let's decrypt it with the key"
   ]
  },
  {
   "cell_type": "code",
   "execution_count": 8,
   "metadata": {},
   "outputs": [
    {
     "name": "stdout",
     "output_type": "stream",
     "text": [
      "Original message is: \n",
      "\tthis is a secret message\n",
      "Ciphertext is: \n",
      "\tvjku ku c ugetgv oguucig\n",
      "Decrypted message is: \n",
      "\tthis is a secret message\n"
     ]
    }
   ],
   "source": [
    "decrypted_message = shift_cipher(encrypted_message, secret_key, encrypt=False)\n",
    "\n",
    "print(f\"Original message is: \\n\\t{message}\")\n",
    "print(f\"Ciphertext is: \\n\\t{encrypted_message}\")\n",
    "print(f\"Decrypted message is: \\n\\t{decrypted_message}\")"
   ]
  },
  {
   "cell_type": "markdown",
   "metadata": {},
   "source": [
    "And we recover back the original message!."
   ]
  },
  {
   "cell_type": "markdown",
   "metadata": {},
   "source": [
    "### Attack on shift cipher <a class=\"anchor\" id=\"attack-shift-cipher\"></a>\n",
    "\n",
    "The secret key in the shift cipher can go from 0 to 26 (the number of letters in the english alphabet). Can an eavesdropper break the ciphertext?. A simple attack can be checking all the possible keys over the intercepted ciphertext:"
   ]
  },
  {
   "cell_type": "code",
   "execution_count": 9,
   "metadata": {},
   "outputs": [
    {
     "name": "stdout",
     "output_type": "stream",
     "text": [
      "secret_key:\n",
      "\th\n",
      "message:\n",
      "\tthis is a message\n",
      "encrypted_message:\n",
      "\taopz pz h tlzzhnl\n",
      "\n",
      "\n",
      "Decrypted message for key a:\n",
      "\taopz pz h tlzzhnl\n",
      "Decrypted message for key b:\n",
      "\tznoy oy g skyygmk\n",
      "Decrypted message for key c:\n",
      "\tymnx nx f rjxxflj\n",
      "Decrypted message for key d:\n",
      "\txlmw mw e qiwweki\n",
      "Decrypted message for key e:\n",
      "\twklv lv d phvvdjh\n",
      "Decrypted message for key f:\n",
      "\tvjku ku c oguucig\n",
      "Decrypted message for key g:\n",
      "\tuijt jt b nfttbhf\n",
      "Decrypted message for key h:\n",
      "\tthis is a message\n",
      "Decrypted message for key i:\n",
      "\tsghr hr z ldrrzfd\n",
      "Decrypted message for key j:\n",
      "\trfgq gq y kcqqyec\n",
      "Decrypted message for key k:\n",
      "\tqefp fp x jbppxdb\n",
      "Decrypted message for key l:\n",
      "\tpdeo eo w iaoowca\n",
      "Decrypted message for key m:\n",
      "\tocdn dn v hznnvbz\n",
      "Decrypted message for key n:\n",
      "\tnbcm cm u gymmuay\n",
      "Decrypted message for key o:\n",
      "\tmabl bl t fxlltzx\n",
      "Decrypted message for key p:\n",
      "\tlzak ak s ewkksyw\n",
      "Decrypted message for key q:\n",
      "\tkyzj zj r dvjjrxv\n",
      "Decrypted message for key r:\n",
      "\tjxyi yi q cuiiqwu\n",
      "Decrypted message for key s:\n",
      "\tiwxh xh p bthhpvt\n",
      "Decrypted message for key t:\n",
      "\thvwg wg o asggous\n",
      "Decrypted message for key u:\n",
      "\tguvf vf n zrffntr\n",
      "Decrypted message for key v:\n",
      "\tftue ue m yqeemsq\n",
      "Decrypted message for key w:\n",
      "\testd td l xpddlrp\n",
      "Decrypted message for key x:\n",
      "\tdrsc sc k wocckqo\n",
      "Decrypted message for key y:\n",
      "\tcqrb rb j vnbbjpn\n",
      "Decrypted message for key z:\n",
      "\tbpqa qa i umaaiom\n"
     ]
    }
   ],
   "source": [
    "from random import randrange, seed\n",
    "\n",
    "seed(4)\n",
    "\n",
    "secret_key = string.ascii_lowercase[randrange(len(string.ascii_lowercase))]\n",
    "message = \"this is a message\"\n",
    "encrypted_message = shift_cipher(message, secret_key)\n",
    "\n",
    "print(f\"secret_key:\\n\\t{secret_key}\")\n",
    "print(f\"message:\\n\\t{message}\")\n",
    "print(f\"encrypted_message:\\n\\t{encrypted_message}\\n\\n\")\n",
    "\n",
    "for possible_key in string.ascii_lowercase:\n",
    "    decrypted_message = shift_cipher(encrypted_message, possible_key, encrypt=False)\n",
    "    print(f\"Decrypted message for key {possible_key}:\\n\\t{decrypted_message}\")"
   ]
  },
  {
   "cell_type": "markdown",
   "metadata": {},
   "source": [
    "## Mono Alphabetic cipher <a class=\"anchor\" id=\"monoalphabetic-cipher\"></a>\n",
    "\n",
    "We've seen that the shift cipher is easy to break as the number of possible keys was just 26. A better approach would be to simply substitute each letter of the alphabet by another random letter. This way we would have 26! different permutations (that is a number of the order of $10^{26}$). Here we cannot do exhaustive search, it would take so long for our computer. A secret key could be for instance \"bdeoinmkclxuqzytpwvjgafrsh\", where the ciphertext for \"a\" is \"b\", the ciphertext for \"b\" is \"d\" and so on.\n",
    "\n",
    "Let's code the random key generator"
   ]
  },
  {
   "cell_type": "code",
   "execution_count": 10,
   "metadata": {},
   "outputs": [
    {
     "name": "stdout",
     "output_type": "stream",
     "text": [
      "Plaintext characters are: \n",
      "\tabcdefghijklmnopqrstuvwxyz\n",
      "Equivalent in one random mono-alphabetic order: \n",
      "\tetckfuswqjgnaopybxmvhzdlir\n"
     ]
    }
   ],
   "source": [
    "from copy import deepcopy\n",
    "\n",
    "seed(1)\n",
    "\n",
    "# random permutation of the alphabet\n",
    "def mono_key_generator()-> str:\n",
    "    chars = list(deepcopy(string.ascii_lowercase))\n",
    "    chars_permutation = []\n",
    "    \n",
    "    while len(chars)>0:\n",
    "        letter = chars.pop(randrange(len(chars)))\n",
    "        chars_permutation.append(letter)\n",
    "        \n",
    "    return ''.join(chars_permutation)\n",
    "\n",
    "print(f\"Plaintext characters are: \\n\\t{string.ascii_lowercase}\")\n",
    "print(f\"Equivalent in one random mono-alphabetic order: \\n\\t{mono_key_generator()}\")"
   ]
  },
  {
   "cell_type": "markdown",
   "metadata": {},
   "source": [
    "Now the key is a 26 character string, in this case \"etckfuswqjgnaopybxmvhzdlir\". This is very difficult to guess!. In the first exercice you'll learn how to break this code, at least, partially. Let's code the encryption/decryption algorithms"
   ]
  },
  {
   "cell_type": "code",
   "execution_count": 11,
   "metadata": {},
   "outputs": [],
   "source": [
    "def mono_encrypt_decrypt(text: str, secret_key: str, encrypt: bool=True) -> str:\n",
    "    if encrypt:\n",
    "        convert_dict = {p:c for p, c in zip(string.ascii_lowercase, secret_key)}\n",
    "    else:\n",
    "        convert_dict = {c:p for p, c in zip(string.ascii_lowercase, secret_key)}\n",
    "    convert_dict[\" \"] = \" \"\n",
    "    \n",
    "    return ''.join(convert_dict[c] for c in text)\n",
    "    "
   ]
  },
  {
   "cell_type": "code",
   "execution_count": 12,
   "metadata": {},
   "outputs": [
    {
     "name": "stdout",
     "output_type": "stream",
     "text": [
      "THE SECRET KEY: \n",
      "avsboircylxmpgkhjwqdtzefun\n",
      "\n",
      "THE SENTENCE:\n",
      "criptography is a cool subject\n",
      "\n",
      "CIPHERTEXT:\n",
      "swyhdkrwahcu yq a skkm qtvlosd\n",
      "\n",
      "PLAINTEXT:\n",
      "criptography is a cool subject\n"
     ]
    }
   ],
   "source": [
    "# generate a random secret key for mono alphabetic\n",
    "secret_key = mono_key_generator()\n",
    "\n",
    "# sentence to encrypt and ciphertext\n",
    "sentence = 'criptography is a cool subject'\n",
    "ciphertext = mono_encrypt_decrypt(sentence, secret_key)\n",
    "plaintext = mono_encrypt_decrypt(ciphertext, secret_key, encrypt=False)\n",
    "\n",
    "print(f\"THE SECRET KEY: \\n{secret_key}\\n\\nTHE SENTENCE:\\n{sentence}\\n\\nCIPHERTEXT:\\n{ciphertext}\\n\\nPLAINTEXT:\\n{plaintext}\")"
   ]
  },
  {
   "cell_type": "markdown",
   "metadata": {},
   "source": [
    "## Vigenère Cipher <a class=\"anchor\" id=\"vigenere-cipher\"></a>\n",
    "\n",
    "Let's go for an even more difficult cipher to crack, the Vigenère cipher.\n",
    "\n",
    "The first difficulty of the Vigenere cipher is that the lenght of the key is arbitrary and indicates the permutation of the text. In the following table a simple example is shown: \n",
    "\n",
    "\n",
    "|  Variable  |      Value      |\n",
    "|:----------:|:---------------:|\n",
    "| Plaintext  | ddddddddddddddd |\n",
    "| Key        | abc             |\n",
    "| Ciphertext | defdefdefdefdef |\n",
    "\n",
    "Here our plaintext is $ddddddddddddddd$ and we encrypt it using the key $abc$ of lenght 3. It is easy to see how it works. The first letter of the plaintext is shifted $a$ (shift of 0), the second shifted $b$ (shift of 1 position) and the third one by $c$ (shift of 3 positions). Therefore $$ d \\rightarrow d $$ $$ d \\rightarrow e $$ $$ d \\rightarrow f $$ \n",
    "\n",
    "Another more difficult example is the following:\n",
    "\n",
    "|  Variable  |            Value            |\n",
    "|:----------:|:---------------------------:|\n",
    "| Plaintext  | criptographyisacoolsubject  |\n",
    "| Key        | esz                         |\n",
    "| Ciphertext | gjhtlnkjztzxmkzggnpktfbdgl  |\n",
    "\n",
    "We've chosen as key a random chain of size 3, this is $esz$. Again, $c$ is shifted $e$ (4 positions), $r$ shifted $j$ (9 positions) and $i$ shifted by $h$ (7 positions). Then, the next character $p$ is shifted by the first letter of the key $e$, this results $t$.\n",
    "\n",
    "Let's code the Vigenere cipher, first the random key generator\n"
   ]
  },
  {
   "cell_type": "code",
   "execution_count": 13,
   "metadata": {},
   "outputs": [],
   "source": [
    "def vigenere_key_generator(secret_key_size: int) -> str:\n",
    "    n = len(string.ascii_lowercase)\n",
    "    secret_key = ''\n",
    "    while len(secret_key) < secret_key_size:\n",
    "        secret_key += string.ascii_lowercase[randrange(n)]\n",
    "    return secret_key"
   ]
  },
  {
   "cell_type": "markdown",
   "metadata": {},
   "source": [
    "We need a helper function to shift the letter by a certain character"
   ]
  },
  {
   "cell_type": "code",
   "execution_count": 14,
   "metadata": {},
   "outputs": [],
   "source": [
    "def shift_letter(letter: str, shiftby: str, forward: bool=True) -> str:\n",
    "    n = len(string.ascii_lowercase)\n",
    "    \n",
    "    letter_int = ord(letter) - 97\n",
    "    shiftby_int = ord(shiftby) - 97\n",
    "    \n",
    "    if forward:\n",
    "        return string.ascii_lowercase[(letter_int+shiftby_int)%n]\n",
    "    else:\n",
    "        return string.ascii_lowercase[(letter_int-shiftby_int)%n]"
   ]
  },
  {
   "cell_type": "markdown",
   "metadata": {},
   "source": [
    "And finally we an write the Vingenere function for encryption and decryption"
   ]
  },
  {
   "cell_type": "code",
   "execution_count": 15,
   "metadata": {},
   "outputs": [],
   "source": [
    "def vigenere_encrypt_decrypt(message: str, secret_key: str, encrypt:bool = True) -> str:\n",
    "    key_len = len(secret_key)\n",
    "    \n",
    "    encoded = ''\n",
    "    for i, letter in enumerate(message):\n",
    "        if letter != \" \":\n",
    "            encoded += shift_letter(letter, secret_key[i%key_len], forward=encrypt)\n",
    "        else:\n",
    "            encoded += letter\n",
    "    return encoded"
   ]
  },
  {
   "cell_type": "code",
   "execution_count": 16,
   "metadata": {},
   "outputs": [
    {
     "name": "stdout",
     "output_type": "stream",
     "text": [
      "THE SECRET KEY: \n",
      "xkxwq\n",
      "\n",
      "THE SENTENCE:\n",
      "criptography is a coolsubject\n",
      "\n",
      "CIPHERTEXT:\n",
      "zbfljlqowfei ei k yelvpqrgozp\n",
      "\n",
      "PLAINTEXT:\n",
      "criptography is a coolsubject\n"
     ]
    }
   ],
   "source": [
    "# generate key\n",
    "secret_key_size = 5\n",
    "secret_key = vigenere_key_generator(secret_key_size)\n",
    "\n",
    "# encrypt a text\n",
    "sentence = 'criptography is a coolsubject'\n",
    "ciphertext = vigenere_encrypt_decrypt(sentence, secret_key, encrypt=True)\n",
    "plaintext = vigenere_encrypt_decrypt(ciphertext, secret_key, encrypt=False)\n",
    "\n",
    "print(f\"THE SECRET KEY: \\n{secret_key}\\n\\nTHE SENTENCE:\\n{sentence}\\n\\nCIPHERTEXT:\\n{ciphertext}\\n\\nPLAINTEXT:\\n{plaintext}\")"
   ]
  },
  {
   "cell_type": "code",
   "execution_count": null,
   "metadata": {},
   "outputs": [],
   "source": []
  },
  {
   "cell_type": "code",
   "execution_count": null,
   "metadata": {},
   "outputs": [],
   "source": []
  },
  {
   "cell_type": "code",
   "execution_count": null,
   "metadata": {},
   "outputs": [],
   "source": []
  },
  {
   "cell_type": "code",
   "execution_count": null,
   "metadata": {},
   "outputs": [],
   "source": []
  },
  {
   "cell_type": "code",
   "execution_count": null,
   "metadata": {},
   "outputs": [],
   "source": []
  },
  {
   "cell_type": "code",
   "execution_count": null,
   "metadata": {},
   "outputs": [],
   "source": []
  },
  {
   "cell_type": "code",
   "execution_count": null,
   "metadata": {},
   "outputs": [],
   "source": []
  }
 ],
 "metadata": {
  "kernelspec": {
   "display_name": "Python 3",
   "language": "python",
   "name": "python3"
  },
  "language_info": {
   "codemirror_mode": {
    "name": "ipython",
    "version": 3
   },
   "file_extension": ".py",
   "mimetype": "text/x-python",
   "name": "python",
   "nbconvert_exporter": "python",
   "pygments_lexer": "ipython3",
   "version": "3.6.7"
  }
 },
 "nbformat": 4,
 "nbformat_minor": 4
}

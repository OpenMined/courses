{
 "cells": [
  {
   "cell_type": "markdown",
   "metadata": {},
   "source": [
    "# Exercise: Attack on mono alphabetic cipher\n",
    "\n",
    "In this exercice you will implement an attack to the mono alphabetic cipher using the corpus of the book Nineteen eighty four by George Orwell. Needless to say, a masterpiece worth reading for anyone intereted in privacy.\n",
    "\n",
    "Alice and Bob want to communicate secretly so they meet in person and choose a key that nobody else knows. They agree on using the mono alphabetic cipher to encrypt and decrypt their messages. An attacker (Charlie) is eavesdroping the communication betweeen Alice and Bob so he's able to see all the ciphertext they send to each other. Charlie only knows that Alice and Bob communicate in english and that they use the mono alphabetic cipher. Our question here is, can Charlie crack the secret key with just this information? We will see how in this exercice\n",
    "\n",
    "Author: [Sebastià Agramunt Puig](https://github.com/sebastiaagramunt) for [OpenMined](https://www.openmined.org/) Privacy ML Series course."
   ]
  },
  {
   "cell_type": "markdown",
   "metadata": {},
   "source": [
    "## Alice and Bob's communication\n",
    "\n",
    "As mentioned, first alice and Bob meet and agree on a secret key, for simplicity here, we copy the code of the Monoalphabetic cipher we coded in the Ciphers notebook"
   ]
  },
  {
   "cell_type": "code",
   "execution_count": null,
   "metadata": {},
   "outputs": [],
   "source": [
    "from random import randrange, seed\n",
    "from copy import deepcopy\n",
    "import string\n",
    "\n",
    "\n",
    "seed(3)\n",
    "\n",
    "def mono_key_generator()-> str:\n",
    "    chars = list(deepcopy(string.ascii_lowercase))\n",
    "    chars_permutation = []\n",
    "    \n",
    "    while len(chars)>0:\n",
    "        letter = chars.pop(randrange(len(chars)))\n",
    "        chars_permutation.append(letter)\n",
    "        \n",
    "    return ''.join(chars_permutation) \n",
    "    \n",
    "def mono_encrypt_decrypt(text: str, secret_key: str, encrypt: bool=True) -> str:\n",
    "    assert len(secret_key)==len(string.ascii_lowercase), \"secret key must be all ascii lowercase, 26 letters\"\n",
    "    \n",
    "    if encrypt:\n",
    "        convert_dict = {p:c for p, c in zip(string.ascii_lowercase, secret_key)}\n",
    "    else:\n",
    "        convert_dict = {c:p for p, c in zip(string.ascii_lowercase, secret_key)}\n",
    "    convert_dict[\" \"] = \" \"\n",
    "    \n",
    "    return ''.join([convert_dict[c] for c in text])"
   ]
  },
  {
   "cell_type": "code",
   "execution_count": null,
   "metadata": {},
   "outputs": [],
   "source": [
    "seed(5)\n",
    "\n",
    "# generate a secret key and print on screen\n",
    "secret_key = None\n",
    "print(f\"Secret key shared between Alice and Bob: {secret_key}\")"
   ]
  },
  {
   "cell_type": "code",
   "execution_count": null,
   "metadata": {},
   "outputs": [],
   "source": [
    "# encrypt the message using monoalphabetic cipher and decrypt the resulting ciphertext\n",
    "# print both on screen\n",
    "\n",
    "message = \"this is a top secret message\"\n",
    "encrypted_message = None\n",
    "decrypted_ciphertext = None\n",
    "\n",
    "print(f\"message:\\n{message}\\n\\nciphertext:\\n{encrypted_message}\\n\\ndecrypted_ciphertext:\\n{decrypted_ciphertext}\")"
   ]
  },
  {
   "cell_type": "markdown",
   "metadata": {},
   "source": [
    "To get real words used in english we can download a corpora in this language. For instance we can download a book and use it as the messages Alice and Bob will send to each other. In the following chunk of code we download Nineteen Eighty Four by George Orwell from [Project Gutenberg](http://gutenberg.net.au)."
   ]
  },
  {
   "cell_type": "code",
   "execution_count": null,
   "metadata": {},
   "outputs": [],
   "source": [
    "from utils import download_data, process_load_textfile\n",
    "import string\n",
    "import os\n",
    "\n",
    "url = 'http://gutenberg.net.au/ebooks01/0100021.txt'\n",
    "filename = 'Nineteen-eighty-four_Orwell.txt'\n",
    "download_path = '/'.join(os.getcwd().split('/')[:-1]) + '/data/'\n",
    "\n",
    "#download data to specified path\n",
    "download_data(url, filename, download_path)\n",
    "\n",
    "#load data and process\n",
    "data = process_load_textfile(filename, download_path)"
   ]
  },
  {
   "cell_type": "markdown",
   "metadata": {},
   "source": [
    "Let's see how it looks after some processing"
   ]
  },
  {
   "cell_type": "code",
   "execution_count": null,
   "metadata": {},
   "outputs": [],
   "source": [
    "data[10000:11000]"
   ]
  },
  {
   "cell_type": "markdown",
   "metadata": {},
   "source": [
    "So Alice wants to send a very long message to Bob from the book Nineteen Eighty Four, this is the same as sending many messages of one word each. Let's code this part"
   ]
  },
  {
   "cell_type": "code",
   "execution_count": null,
   "metadata": {},
   "outputs": [],
   "source": [
    "data_len = len(data)\n",
    "\n",
    "init_letter = data_len//2\n",
    "final_letter = init_letter + data_len//4\n",
    "\n",
    "message = data[init_letter:final_letter]\n",
    "encrypted_message = mono_encrypt_decrypt(message, secret_key)"
   ]
  },
  {
   "cell_type": "markdown",
   "metadata": {},
   "source": [
    "## Charlie's side\n",
    "\n",
    "As we mentioned, Charlie only knows that Alice and Bob communciate in english and that they use the Monoalphabetic cipher. He's a smart guy and knows what are the most frequent letters in english. His attack will consist on compare the most frequent letters of the ciphertxt (encrypted data) that Alice sends to Bob with the most frequent letters in english.\n",
    "\n",
    "First things first, we need to obtain the most frequent words in english, luckily you can find them in [wikipedia](https://en.wikipedia.org/wiki/Letter_frequency)."
   ]
  },
  {
   "cell_type": "code",
   "execution_count": null,
   "metadata": {},
   "outputs": [],
   "source": [
    "english_letter_counts = [(\"a\", 0.082),\n",
    "                         (\"b\", 0.015),\n",
    "                         (\"c\", 0.028),\n",
    "                         (\"d\", 0.043),\n",
    "                         (\"e\", 0.13),\n",
    "                         (\"f\", 0.022),\n",
    "                         (\"g\", 0.02),\n",
    "                         (\"h\", 0.061),\n",
    "                         (\"i\", 0.07),\n",
    "                         (\"j\", 0.0015),\n",
    "                         (\"k\", 0.0077),\n",
    "                         (\"l\", 0.04),\n",
    "                         (\"m\", 0.024),\n",
    "                         (\"n\", 0.067),\n",
    "                         (\"o\", 0.075),\n",
    "                         (\"p\", 0.019),\n",
    "                         (\"q\", 0.00095),\n",
    "                         (\"r\", 0.06),\n",
    "                         (\"s\", 0.063),\n",
    "                         (\"t\", 0.091),\n",
    "                         (\"u\", 0.028),\n",
    "                         (\"v\", 0.0098),\n",
    "                         (\"w\", 0.024),\n",
    "                         (\"x\", 0.0015),\n",
    "                         (\"y\", 0.002),\n",
    "                         (\"z\", 0.00074)\n",
    "                        ]"
   ]
  },
  {
   "cell_type": "code",
   "execution_count": null,
   "metadata": {},
   "outputs": [],
   "source": [
    "# and sort them according to their frequency\n"
   ]
  },
  {
   "cell_type": "code",
   "execution_count": null,
   "metadata": {},
   "outputs": [],
   "source": [
    "from collections import Counter\n",
    "from typing import List, Tuple\n",
    "\n",
    "# Write a function that inputs a text and outputs a list of tuples with frequencies of letters,\n",
    "# hint: use Counter from package collections\n",
    "def letter_count(text: str) -> List[Tuple[str, int]]:\n",
    "    # step 1: remove white spaces\n",
    "    \n",
    "    \n",
    "    # step 2: create a list of charactrs in the text\n",
    "    \n",
    "    \n",
    "    # step 3: count characters and sort \n",
    "    pass"
   ]
  },
  {
   "cell_type": "code",
   "execution_count": null,
   "metadata": {},
   "outputs": [],
   "source": [
    "lc = letter_count(data)\n",
    "\n",
    "assert lc[0][0]==\"e\", \"letter_count not well implemented\"\n",
    "assert lc[1][0]==\"t\", \"letter_count not well implemented\"\n",
    "assert lc[2][0]==\"a\", \"letter_count not well implemented\"\n",
    "assert lc[3][0]==\"o\", \"letter_count not well implemented\"\n",
    "assert lc[4][0]==\"n\", \"letter_count not well implemented\"\n",
    "assert lc[5][0]==\"i\", \"letter_count not well implemented\"\n",
    "\n",
    "lc"
   ]
  },
  {
   "cell_type": "markdown",
   "metadata": {},
   "source": [
    "### Exercice 3: Charlie's attack\n",
    "\n",
    "Now Charlie has the ciphertext that Alice sent to Bob and the frequencies of the english letters, a simple attack can be calculate the frequencies of the ciphertext and compare the two lists. Let's code this"
   ]
  },
  {
   "cell_type": "code",
   "execution_count": null,
   "metadata": {},
   "outputs": [],
   "source": [
    "import string\n",
    "\n",
    "def plaintext_attack(encrypted_message: str, english_letter_counts: List[Tuple[str, int]]) -> str:\n",
    "    # encrypted message is the message intercepted from Alice to Bob\n",
    "    # english_letter counts is the list of tuples for the frequencies\n",
    "    characters = string.ascii_lowercase\n",
    "    \n",
    "    # first calculate the frequencies in plaintext and ciphertext\n",
    "    \n",
    "    \n",
    "    # a dictionary that holds each letter in plaintext the conversion to ciphertext\n",
    "    \n",
    "    \n",
    "    pass\n"
   ]
  },
  {
   "cell_type": "code",
   "execution_count": null,
   "metadata": {},
   "outputs": [],
   "source": [
    "inferred_secret_key = plaintext_attack(encrypted_message, english_letter_counts)\n",
    "print(f\"secret_key:\\n\\t{secret_key}\\ninferred_secret_key:\\n\\t{inferred_secret_key}\")\n",
    "\n",
    "correctly_guessed = 0\n",
    "for sk, isk in zip(secret_key, inferred_secret_key):\n",
    "    if sk==isk:\n",
    "        correctly_guessed+=1\n",
    "print(f\"\\nCorrectly guessed {correctly_guessed} out of {len(secret_key)}\")"
   ]
  },
  {
   "cell_type": "markdown",
   "metadata": {},
   "source": [
    "Not bad! we've guessed 14 out of 26 characters!, let's see how the decrypted text would look like with our inferred key and compare it to the original Let's see how the text looks like when decrypting with this key"
   ]
  },
  {
   "cell_type": "code",
   "execution_count": null,
   "metadata": {},
   "outputs": [],
   "source": [
    "mono_encrypt_decrypt(encrypted_message, inferred_secret_key, encrypt=False)[0:500]"
   ]
  },
  {
   "cell_type": "code",
   "execution_count": null,
   "metadata": {},
   "outputs": [],
   "source": [
    "message[0:500]"
   ]
  },
  {
   "cell_type": "markdown",
   "metadata": {},
   "source": [
    "# Conslusions\n",
    "\n",
    "Charlie has been able to correctly guess 14 out of 26 characters from the key with this very simple attack!. The main takeaway from this exercice is that one can take information by simply looking at the ciphertext. Can we construct a perfectly secure cipher so that the ciphertext carries no information about the original message?. This is what we are going to see in the next section."
   ]
  },
  {
   "cell_type": "code",
   "execution_count": null,
   "metadata": {},
   "outputs": [],
   "source": []
  }
 ],
 "metadata": {
  "kernelspec": {
   "display_name": "Python 3",
   "language": "python",
   "name": "python3"
  },
  "language_info": {
   "codemirror_mode": {
    "name": "ipython",
    "version": 3
   },
   "file_extension": ".py",
   "mimetype": "text/x-python",
   "name": "python",
   "nbconvert_exporter": "python",
   "pygments_lexer": "ipython3",
   "version": "3.7.4"
  }
 },
 "nbformat": 4,
 "nbformat_minor": 4
}
